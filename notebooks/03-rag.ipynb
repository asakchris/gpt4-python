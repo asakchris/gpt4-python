{
 "cells": [
  {
   "cell_type": "markdown",
   "id": "2c692f02-2662-40c7-af02-e89407103a55",
   "metadata": {},
   "source": [
    "# RAG (Retrieval Augmented Generation)\n",
    "\n",
    "- Everything can be converted into a vector, including text documents, images, tabular data\n",
    "\n",
    "### Facebook AI Similarity Search (FAISS)"
   ]
  },
  {
   "cell_type": "code",
   "execution_count": null,
   "id": "d946663c-888f-477d-a56d-24f6d8e88597",
   "metadata": {},
   "outputs": [],
   "source": []
  }
 ],
 "metadata": {
  "kernelspec": {
   "display_name": "Python 3 (ipykernel)",
   "language": "python",
   "name": "python3"
  },
  "language_info": {
   "codemirror_mode": {
    "name": "ipython",
    "version": 3
   },
   "file_extension": ".py",
   "mimetype": "text/x-python",
   "name": "python",
   "nbconvert_exporter": "python",
   "pygments_lexer": "ipython3",
   "version": "3.11.7"
  }
 },
 "nbformat": 4,
 "nbformat_minor": 5
}
