{
 "cells": [
  {
   "cell_type": "markdown",
   "id": "14353ab5-ddee-440d-8a58-db6d36735e20",
   "metadata": {},
   "source": [
    "### Setup"
   ]
  },
  {
   "cell_type": "code",
   "execution_count": 32,
   "id": "315fa395-a651-4eee-9431-45f14f0db04d",
   "metadata": {},
   "outputs": [],
   "source": [
    "from openai import OpenAI\n",
    "from dotenv import load_dotenv\n",
    "import json\n",
    "from pprint import pprint\n",
    "from IPython.display import display, Markdown\n",
    "\n",
    "load_dotenv()\n",
    "\n",
    "client = OpenAI()"
   ]
  },
  {
   "cell_type": "markdown",
   "id": "2b7b1ac3-ba40-423e-a9c8-ed316e74152c",
   "metadata": {},
   "source": [
    "### Unstructured to Structured"
   ]
  },
  {
   "cell_type": "code",
   "execution_count": 19,
   "id": "c8343908-8d1d-4b1c-9b7f-27e89d97a363",
   "metadata": {},
   "outputs": [],
   "source": [
    "system_prompt = \"You are an assistant that returns only JSON objects with the requested information.\"\n",
    "\n",
    "def complete(user_prompt):\n",
    "    completion = client.chat.completions.create(\n",
    "        model='gpt-3.5-turbo',\n",
    "        messages=[\n",
    "            {\"role\": \"system\", \"content\": system_prompt},\n",
    "            {\"role\": \"user\", \"content\": user_prompt}\n",
    "        ],\n",
    "        temperature=0,\n",
    "        max_tokens=400,\n",
    "    )\n",
    "    return completion\n",
    "\n",
    "def get_response(completion):\n",
    "    return completion.choices[0].message.content"
   ]
  },
  {
   "cell_type": "code",
   "execution_count": 5,
   "id": "35ad5357-949a-49fb-8894-947805c93b06",
   "metadata": {},
   "outputs": [
    {
     "data": {
      "text/plain": [
       "ChatCompletion(id='chatcmpl-9jHxjQMboj2MMGNZ9FRLPc3lxzQFY', choices=[Choice(finish_reason='stop', index=0, logprobs=None, message=ChatCompletionMessage(content='{\\n    \"full_name\": \"Albert Einstein\",\\n    \"birth_date\": \"March 14, 1879\",\\n    \"date_of_death\": \"April 18, 1955\",\\n    \"accomplishments\": [\\n        \"Theory of General Relativity\",\\n        \"Mass-energy equivalence formula E=mc^2\",\\n        \"Photoelectric effect explanation leading to Nobel Prize in Physics\",\\n        \"Contributions to quantum mechanics\"\\n    ]\\n}', role='assistant', function_call=None, tool_calls=None))], created=1720580835, model='gpt-3.5-turbo-0125', object='chat.completion', service_tier=None, system_fingerprint=None, usage=CompletionUsage(completion_tokens=90, prompt_tokens=54, total_tokens=144))"
      ]
     },
     "execution_count": 5,
     "metadata": {},
     "output_type": "execute_result"
    }
   ],
   "source": [
    "prompt = \"Please return a JSON object about Albert Einstein. Include full name, birth date, date of death (if applicable), and the list of accomplishments.\"\n",
    "completion = complete(prompt)\n",
    "completion"
   ]
  },
  {
   "cell_type": "code",
   "execution_count": 7,
   "id": "d6878e9e-df8d-4176-ab24-2c4999e0f860",
   "metadata": {},
   "outputs": [
    {
     "name": "stdout",
     "output_type": "stream",
     "text": [
      "{\n",
      "    \"full_name\": \"Albert Einstein\",\n",
      "    \"birth_date\": \"March 14, 1879\",\n",
      "    \"date_of_death\": \"April 18, 1955\",\n",
      "    \"accomplishments\": [\n",
      "        \"Theory of General Relativity\",\n",
      "        \"Mass-energy equivalence formula E=mc^2\",\n",
      "        \"Photoelectric effect explanation leading to Nobel Prize in Physics\",\n",
      "        \"Contributions to quantum mechanics\"\n",
      "    ]\n",
      "}\n"
     ]
    }
   ],
   "source": [
    "print(get_response(completion))"
   ]
  },
  {
   "cell_type": "code",
   "execution_count": 9,
   "id": "5d19e6bf-5745-46aa-bc8a-fe41dd7717c3",
   "metadata": {},
   "outputs": [
    {
     "data": {
      "text/plain": [
       "{'full_name': 'Albert Einstein',\n",
       " 'birth_date': 'March 14, 1879',\n",
       " 'date_of_death': 'April 18, 1955',\n",
       " 'accomplishments': ['Theory of General Relativity',\n",
       "  'Mass-energy equivalence formula E=mc^2',\n",
       "  'Photoelectric effect explanation leading to Nobel Prize in Physics',\n",
       "  'Contributions to quantum mechanics']}"
      ]
     },
     "execution_count": 9,
     "metadata": {},
     "output_type": "execute_result"
    }
   ],
   "source": [
    "ae = json.loads(get_response(completion))\n",
    "ae"
   ]
  },
  {
   "cell_type": "code",
   "execution_count": 10,
   "id": "b904a094-0108-4c59-b905-8a5de60e4a20",
   "metadata": {},
   "outputs": [],
   "source": [
    "# Turn it into a function that will tell us about anyone!\n",
    "def get_person(name):\n",
    "    prompt = f\"Please return a JSON object about {name}. Include full name, birth date, date of death (if applicable), and the list of accomplishments.\"\n",
    "    completion = complete(prompt)\n",
    "    data = json.loads(get_response(completion))\n",
    "    return data"
   ]
  },
  {
   "cell_type": "code",
   "execution_count": 13,
   "id": "72521b54-9325-47f9-a15b-405e27e0769e",
   "metadata": {},
   "outputs": [
    {
     "name": "stdout",
     "output_type": "stream",
     "text": [
      "{'accomplishments': ['Co-founder of Apple Inc.',\n",
      "                     'Pioneer of the personal computer revolution',\n",
      "                     'Creator of the iPod, iPhone, and iPad',\n",
      "                     'Visionary leader in the tech industry'],\n",
      " 'birth_date': 'February 24, 1955',\n",
      " 'date_of_death': 'October 5, 2011',\n",
      " 'full_name': 'Steve Jobs'}\n"
     ]
    }
   ],
   "source": [
    "pprint(get_person(\"Steve Jobs\"))"
   ]
  },
  {
   "cell_type": "code",
   "execution_count": 14,
   "id": "f4533355-98be-45b1-ba2f-2e61c7bf0cd5",
   "metadata": {},
   "outputs": [
    {
     "name": "stdout",
     "output_type": "stream",
     "text": [
      "{'accomplishments': ['Co-founder of Microsoft Corporation',\n",
      "                     'One of the wealthiest individuals in the world',\n",
      "                     'Philanthropist through the Bill & Melinda Gates '\n",
      "                     'Foundation'],\n",
      " 'birth_date': 'October 28, 1955',\n",
      " 'date_of_death': None,\n",
      " 'full_name': 'Bill Gates'}\n"
     ]
    }
   ],
   "source": [
    "pprint(get_person(\"Bill Gates\"))"
   ]
  },
  {
   "cell_type": "code",
   "execution_count": 15,
   "id": "9a7e980d-53c2-4fe0-8bab-f00d0aa8efcc",
   "metadata": {},
   "outputs": [],
   "source": [
    "report = '''\n",
    "CUPERTINO, CALIFORNIA Apple today announced financial results for its fiscal 2024 second quarter ended March 30, 2024. The Company posted quarterly revenue of $90.8 billion, down 4 percent year over year, and quarterly earnings per diluted share of $1.53.\n",
    "“Today Apple is reporting revenue of $90.8 billion for the March quarter, including an all-time revenue record in Services,” said Tim Cook, Apple’s CEO. “During the quarter, we were thrilled to launch Apple Vision Pro and to show the world the potential that spatial computing unlocks. We’re also looking forward to an exciting product announcement next week and an incredible Worldwide Developers Conference next month. As always, we are focused on providing the very best products and services for our customers, and doing so while living up to the core values that drive us.”\n",
    "“Thanks to very high levels of customer satisfaction and loyalty, our active installed base of devices has reached a new all-time high across all products and all geographic segments, and our business performance drove a new EPS record for the March quarter,” said Luca Maestri, Apple’s CFO. “Given our confidence in Apple’s future and the value we see in our stock, our Board has authorized an additional $110 billion for share repurchases. We are also raising our quarterly dividend for the twelfth year in a row.”\n",
    "Apple’s board of directors has declared a cash dividend of $0.25 per share of the Company’s common stock, an increase of 4 percent. The dividend is payable on May 16, 2024 to shareholders of record as of the close of business on May 13, 2024. The board of directors has also authorized an additional program to repurchase up to $110 billion of the Company’s common stock.\n",
    "Apple will provide live streaming of its Q2 2024 financial results conference call beginning at 2:00 p.m. PT on May 2, 2024 at apple.com/investor/earnings-call. The webcast will be available for replay for approximately two weeks thereafter.\n",
    "'''"
   ]
  },
  {
   "cell_type": "code",
   "execution_count": 16,
   "id": "551e0bc3-4be7-49cc-8135-26a5500a4dce",
   "metadata": {},
   "outputs": [],
   "source": [
    "prompt = f\"\"\"\n",
    "Please pull all the important information from the below quarterly earnings report, enclosed in triple backticks. Return the result as a JSON. \\n\\n\n",
    "```\n",
    "{report}\n",
    "```\n",
    "\"\"\""
   ]
  },
  {
   "cell_type": "code",
   "execution_count": 22,
   "id": "35f8cca5-a48a-4ca4-a265-b2b0bba46c96",
   "metadata": {},
   "outputs": [
    {
     "data": {
      "text/plain": [
       "{'company': 'Apple',\n",
       " 'quarter': 'Q2 2024',\n",
       " 'revenue': '$90.8 billion',\n",
       " 'revenue_change': '-4%',\n",
       " 'earnings_per_share': '$1.53',\n",
       " 'CEO': 'Tim Cook',\n",
       " 'CFO': 'Luca Maestri',\n",
       " 'dividend_per_share': '$0.25',\n",
       " 'dividend_increase': '4%',\n",
       " 'dividend_payable_date': 'May 16, 2024',\n",
       " 'dividend_record_date': 'May 13, 2024',\n",
       " 'share_repurchase_program': '$110 billion',\n",
       " 'earnings_call_date': 'May 2, 2024',\n",
       " 'earnings_call_time': '2:00 p.m. PT',\n",
       " 'earnings_call_webcast': 'apple.com/investor/earnings-call'}"
      ]
     },
     "execution_count": 22,
     "metadata": {},
     "output_type": "execute_result"
    }
   ],
   "source": [
    "completion = complete(prompt)\n",
    "data = json.loads(get_response(completion))\n",
    "data"
   ]
  },
  {
   "cell_type": "code",
   "execution_count": 23,
   "id": "b373fed1-283f-4a48-b897-7439aff5f440",
   "metadata": {},
   "outputs": [],
   "source": [
    "prompt = f\"\"\"\n",
    "Please pull all the important information from the below quarterly earnings report, enclosed in triple backticks. Return the result as a JSON.\n",
    "\n",
    "Include the keys company, ceo, cfo, quarter, revenue, revenue_change, earnings_per_share, dividend_per_share, dividend_increase, dividend_payable_date, \\\n",
    "dividend_record_date, share_repurchase_program, earnings_call_date, earnings_call_time and earnings_call_webcast.\n",
    "\\n\\n\n",
    "```\n",
    "{report}\n",
    "```\n",
    "\"\"\""
   ]
  },
  {
   "cell_type": "code",
   "execution_count": 24,
   "id": "893dec46-a9a8-4665-bd82-91b808120164",
   "metadata": {},
   "outputs": [
    {
     "data": {
      "text/plain": [
       "{'company': 'Apple',\n",
       " 'ceo': 'Tim Cook',\n",
       " 'cfo': 'Luca Maestri',\n",
       " 'quarter': 'Q2 2024',\n",
       " 'revenue': '$90.8 billion',\n",
       " 'revenue_change': '-4%',\n",
       " 'earnings_per_share': '$1.53',\n",
       " 'dividend_per_share': '$0.25',\n",
       " 'dividend_increase': '4%',\n",
       " 'dividend_payable_date': 'May 16, 2024',\n",
       " 'dividend_record_date': 'May 13, 2024',\n",
       " 'share_repurchase_program': '$110 billion',\n",
       " 'earnings_call_date': 'May 2, 2024',\n",
       " 'earnings_call_time': '2:00 p.m. PT',\n",
       " 'earnings_call_webcast': 'apple.com/investor/earnings-call'}"
      ]
     },
     "execution_count": 24,
     "metadata": {},
     "output_type": "execute_result"
    }
   ],
   "source": [
    "completion = complete(prompt)\n",
    "data = json.loads(get_response(completion))\n",
    "data"
   ]
  },
  {
   "cell_type": "markdown",
   "id": "103a755b-3586-4f1d-872d-6d4cdf6e7ead",
   "metadata": {},
   "source": [
    "### Structured to Unstructured"
   ]
  },
  {
   "cell_type": "code",
   "execution_count": 33,
   "id": "8584aced-ce9a-4d4f-b139-17ca5a094396",
   "metadata": {},
   "outputs": [],
   "source": [
    "system_prompt = \"You are an assistant that writes concise, detailed, and factual quarterly earnings reports given structured data.\"\n",
    "\n",
    "def complete(user_prompt):\n",
    "    completion = client.chat.completions.create(\n",
    "        model='gpt-3.5-turbo',\n",
    "        messages=[\n",
    "            {\"role\": \"system\", \"content\": system_prompt},\n",
    "            {\"role\": \"user\", \"content\": user_prompt}\n",
    "        ],\n",
    "        temperature=0,\n",
    "        #max_tokens=400,\n",
    "    )\n",
    "    return completion\n",
    "\n",
    "def print_response(completion):\n",
    "    content = completion.choices[0].message.content\n",
    "    display(Markdown(content))"
   ]
  },
  {
   "cell_type": "code",
   "execution_count": 27,
   "id": "5b5db4a5-2010-4fdd-92eb-fe192dd4af23",
   "metadata": {},
   "outputs": [],
   "source": [
    "earnings = {'company': 'Apple',\n",
    " 'ceo': 'Tim Cook',\n",
    " 'cfo': 'Luca Maestri',\n",
    " 'quarter': 'Q2 2024',\n",
    " 'revenue': '$90.8 billion',\n",
    " 'revenue_change': '-4%',\n",
    " 'earnings_per_share': '$1.53',\n",
    " 'dividend_per_share': '$0.25',\n",
    " 'dividend_increase': '4%',\n",
    " 'dividend_payable_date': 'May 16, 2024',\n",
    " 'dividend_record_date': 'May 13, 2024',\n",
    " 'share_repurchase_program': '$110 billion',\n",
    " 'earnings_call_date': 'May 2, 2024',\n",
    " 'earnings_call_time': '2:00 p.m. PT',\n",
    " 'earnings_call_webcast': 'apple.com/investor/earnings-call'}\n",
    "\n",
    "js = json.dumps(earnings)"
   ]
  },
  {
   "cell_type": "code",
   "execution_count": 34,
   "id": "5f48bf55-d301-4e52-9b9f-81f40e616349",
   "metadata": {},
   "outputs": [
    {
     "data": {
      "text/markdown": [
       "**Apple Inc. Quarterly Earnings Report - Q2 2024**\n",
       "\n",
       "- **Company:** Apple Inc.\n",
       "- **CEO:** Tim Cook\n",
       "- **CFO:** Luca Maestri\n",
       "- **Quarter:** Q2 2024\n",
       "\n",
       "**Financial Highlights:**\n",
       "- **Revenue:** $90.8 billion\n",
       "- **Revenue Change:** -4%\n",
       "- **Earnings Per Share:** $1.53\n",
       "\n",
       "**Dividend Information:**\n",
       "- **Dividend Per Share:** $0.25\n",
       "- **Dividend Increase:** 4%\n",
       "- **Dividend Payable Date:** May 16, 2024\n",
       "- **Dividend Record Date:** May 13, 2024\n",
       "\n",
       "**Shareholder Programs:**\n",
       "- **Share Repurchase Program:** $110 billion\n",
       "\n",
       "**Earnings Call Details:**\n",
       "- **Earnings Call Date:** May 2, 2024\n",
       "- **Earnings Call Time:** 2:00 p.m. PT\n",
       "- **Earnings Call Webcast:** [Apple Investor Earnings Call](apple.com/investor/earnings-call)\n",
       "\n",
       "For more detailed financial information, please refer to the official quarterly earnings report released by Apple Inc."
      ],
      "text/plain": [
       "<IPython.core.display.Markdown object>"
      ]
     },
     "metadata": {},
     "output_type": "display_data"
    }
   ],
   "source": [
    "prompt = f\"\"\"\n",
    "Please convert the following JSON document enclosed in triple backticks into a quarterly earnings report suitable for shareholders. \\n\\n\n",
    "```\n",
    "{js}\n",
    "```\n",
    "\"\"\"\n",
    "\n",
    "completion = complete(prompt)\n",
    "print_response(completion)"
   ]
  },
  {
   "cell_type": "markdown",
   "id": "038f6420-bb8f-4649-8bf7-d1f32acf8197",
   "metadata": {},
   "source": [
    "### JSON Mode\n",
    "\n",
    "https://platform.openai.com/docs/guides/text-generation/json-mode"
   ]
  },
  {
   "cell_type": "code",
   "execution_count": 35,
   "id": "5bee1126-505e-4763-90de-2d2e95c28398",
   "metadata": {},
   "outputs": [
    {
     "name": "stdout",
     "output_type": "stream",
     "text": [
      "{\n",
      "  \"winner\": \"Los Angeles Dodgers\",\n",
      "  \"year\": 2020,\n",
      "  \"final_opponent\": \"Tampa Bay Rays\"\n",
      "}\n"
     ]
    }
   ],
   "source": [
    "completion = client.chat.completions.create(\n",
    "    model=\"gpt-3.5-turbo-0125\",\n",
    "    response_format={\"type\": \"json_object\"},\n",
    "    messages=[\n",
    "        {\"role\": \"system\", \"content\": \"You are a helpful assistant designed to output JSON\"},\n",
    "        {\"role\": \"user\", \"content\": \"Who won the world series in 2020?\"}\n",
    "    ]\n",
    ")\n",
    "print(completion.choices[0].message.content)"
   ]
  },
  {
   "cell_type": "markdown",
   "id": "91ca303f-62cc-45c2-ac35-1697e8e9f882",
   "metadata": {},
   "source": [
    "### Translation"
   ]
  },
  {
   "cell_type": "code",
   "execution_count": 37,
   "id": "e7c6d72f-1eaa-46b8-a4c7-17f27cd9c5d0",
   "metadata": {},
   "outputs": [],
   "source": [
    "def complete(user_prompt):\n",
    "    completion = client.chat.completions.create(\n",
    "        model='gpt-3.5-turbo',\n",
    "        messages=[\n",
    "            {\"role\": \"user\", \"content\": user_prompt}\n",
    "        ],\n",
    "        temperature=0,\n",
    "    )\n",
    "    return completion\n",
    "\n",
    "def print_response(completion):\n",
    "    content = completion.choices[0].message.content\n",
    "    print(content)"
   ]
  },
  {
   "cell_type": "code",
   "execution_count": 38,
   "id": "ff754db8-bde8-4d79-a85d-99ae5fa28675",
   "metadata": {},
   "outputs": [
    {
     "name": "stdout",
     "output_type": "stream",
     "text": [
      "Hola, ¿cómo estás?\n"
     ]
    }
   ],
   "source": [
    "prompt = f\"\"\"\n",
    "Translate the following English text to Spanish: \\\n",
    "```\n",
    "Hello, how are you?\n",
    "```\n",
    "\"\"\"\n",
    "\n",
    "completion = complete(prompt)\n",
    "print_response(completion)"
   ]
  },
  {
   "cell_type": "code",
   "execution_count": 39,
   "id": "d8306550-9f6f-480a-9f8f-4bfa74c02dfd",
   "metadata": {},
   "outputs": [
    {
     "name": "stdout",
     "output_type": "stream",
     "text": [
      "My caloric intake is depleted. May I procure some McNuggets?\n"
     ]
    }
   ],
   "source": [
    "prompt = f\"\"\"\n",
    "Translate the following English text to nerdy scientist: \\\n",
    "```\n",
    "I'm hungry. Can I have McNuggets?\n",
    "```\n",
    "\"\"\"\n",
    "\n",
    "completion = complete(prompt)\n",
    "print_response(completion)"
   ]
  },
  {
   "cell_type": "code",
   "execution_count": 41,
   "id": "f27ad4c6-ec67-4c34-aad6-a53f41fa9315",
   "metadata": {},
   "outputs": [
    {
     "name": "stdout",
     "output_type": "stream",
     "text": [
      "Tamil\n"
     ]
    }
   ],
   "source": [
    "# Translating arbitary languages\n",
    "# Use-case: building a customer service bot\n",
    "# You don't know what language customers will write in!\n",
    "# But can't let the bot reply in any language?\n",
    "# Sure, but what if your company documents are in English?\n",
    "\n",
    "user_message = \"வணக்கம் எப்படி இருக்கிறாய்?\"\n",
    "prompt = f\"\"\"\n",
    "What language is this message in? \\\n",
    "State only the language.\n",
    "```\n",
    "{user_message}\n",
    "```\n",
    "\"\"\"\n",
    "completion = complete(prompt)\n",
    "print_response(completion)"
   ]
  },
  {
   "cell_type": "code",
   "execution_count": 43,
   "id": "2c0cf7e5-de9d-4785-8929-5e1517800f2c",
   "metadata": {},
   "outputs": [
    {
     "name": "stdout",
     "output_type": "stream",
     "text": [
      "வணக்கம்,\n",
      "\n",
      "நான் நன்றாக இருக்கிறேன், நீங்கள் எப்படி உதவ முடியும்? உங்கள் கேட்கைக்கு உதவ மிக்க மகிழ்ச்சி அடைகிறேன்.\n",
      "\n",
      "உதவி தேவையானபடி என்னை அறியவும்.\n",
      "\n",
      "நன்றி,\n",
      "[உங்கள் பெயர்]\n"
     ]
    }
   ],
   "source": [
    "# What language will it reply in?\n",
    "prompt = f\"\"\"\n",
    "Please write a polite customer service response to a customer who has sent the following message, reply in same language:\n",
    "```\n",
    "{user_message}\n",
    "```\n",
    "\"\"\"\n",
    "\n",
    "completion = complete(prompt)\n",
    "print_response(completion)"
   ]
  },
  {
   "cell_type": "markdown",
   "id": "dfb0f859-fc0e-47a8-aacc-be497234e6d4",
   "metadata": {},
   "source": [
    "### Tone Enhancement"
   ]
  },
  {
   "cell_type": "code",
   "execution_count": 44,
   "id": "5186a380-d943-487b-8d4b-138950bc7155",
   "metadata": {},
   "outputs": [
    {
     "name": "stdout",
     "output_type": "stream",
     "text": [
      "We apologize for any confusion or misunderstanding that may have occurred regarding the prerequisites for this course. It appears that there may have been a mistake or oversight in the registration process. We would like to offer our assistance in helping you meet the necessary requirements to enroll in the course. Please let us know how we can support you in this matter. Thank you for bringing this to our attention.\n"
     ]
    }
   ],
   "source": [
    "reply = \"Why didn't you meet the prerequisites for this course you bozo?\"\n",
    "prompt = f\"\"\"\n",
    "Please rewrite the following customer service reply to be extremely polite and compassionate towards the customer/student:\n",
    "```\n",
    "{reply}\n",
    "```\n",
    "\"\"\"\n",
    "\n",
    "completion = complete(prompt)\n",
    "print_response(completion)"
   ]
  },
  {
   "cell_type": "markdown",
   "id": "d98a7bf2-953a-4f3b-a55c-1a8a47311ef0",
   "metadata": {},
   "source": [
    "### Sentiment Analysis"
   ]
  },
  {
   "cell_type": "code",
   "execution_count": 47,
   "id": "f5fa7c08-4596-4608-97e7-10e32058570f",
   "metadata": {},
   "outputs": [],
   "source": [
    "system_prompt = \"\"\"\n",
    "You are a helpful assistant with expert-level emotional intelligence. \\\n",
    "You reply only with 1, 0 or -1, with 1 meaning positive sentiment, -1 meaning negative sentiment, and 0 meaning neutral.\n",
    "\"\"\"\n",
    "\n",
    "def complete(user_prompt):\n",
    "    completion = client.chat.completions.create(\n",
    "        model='gpt-3.5-turbo',\n",
    "        messages=[\n",
    "            {\"role\": \"system\", \"content\": system_prompt},\n",
    "            {\"role\": \"user\", \"content\": user_prompt}\n",
    "        ],\n",
    "        temperature=0,\n",
    "    )\n",
    "    return completion\n",
    "\n",
    "def get_sentiment(text):\n",
    "    user_prompt = f\"\"\"\n",
    "    Please assign a sentiment value for the following text:\\\n",
    "    ```\n",
    "    {text}\n",
    "    ```\n",
    "    \"\"\"\n",
    "    completion = complete(user_prompt)\n",
    "    return completion.choices[0].message.content"
   ]
  },
  {
   "cell_type": "code",
   "execution_count": 48,
   "id": "8e1e5ac2-4807-40f1-9f6a-07ff8107713a",
   "metadata": {},
   "outputs": [
    {
     "data": {
      "text/plain": [
       "'-1'"
      ]
     },
     "execution_count": 48,
     "metadata": {},
     "output_type": "execute_result"
    }
   ],
   "source": [
    "review = \"\"\"\n",
    "Too melodramatic and not enough action. \\\n",
    "I watched this with my kid and he lost interest. \\\n",
    "I put on the old one instead and he liked it. \\\n",
    "Theres too much talking in this new one to be kid friendly. \\\n",
    "They go to another scene and they talk combine with separate x-men then they talk some more. \\\n",
    "Its suppose to be a cartoon tv show made for kids right? \\\n",
    "The original X-Men dialogue is to the point that scenes fly. \\\n",
    "This one a scene stays on the screen you would think this is an anime. \\\n",
    "And thats also my problem. It no longer feels like an americanized cartoon. \\\n",
    "If you have watched Teenage Mutant Ninja Turtles show than you know what I mean. \\\n",
    "Theres a certain pacing and forced emotion that alot of anime is known for.\n",
    "\"\"\"\n",
    "get_sentiment(review)"
   ]
  },
  {
   "cell_type": "markdown",
   "id": "7c7ff2f2-3ded-4fb0-abf8-ffa02c65ae32",
   "metadata": {},
   "source": [
    "### Stock Trading"
   ]
  },
  {
   "cell_type": "code",
   "execution_count": 49,
   "id": "9bcc66f4-bb16-46f3-a6d3-377f0868a030",
   "metadata": {},
   "outputs": [],
   "source": [
    "system_prompt = \"\"\"\n",
    "You are a helpful assistant and an expert-level stock trader. \\\n",
    "You reply only with 1, 0 or -1, with 1 meaning 'good investment', -1 meaning 'poor investment', and 0 meaning neutral.\n",
    "\"\"\"\n",
    "\n",
    "def complete(user_prompt):\n",
    "    completion = client.chat.completions.create(\n",
    "        model='gpt-3.5-turbo',\n",
    "        messages=[\n",
    "            {\"role\": \"system\", \"content\": system_prompt},\n",
    "            {\"role\": \"user\", \"content\": user_prompt}\n",
    "        ],\n",
    "        temperature=0,\n",
    "    )\n",
    "    return completion\n",
    "\n",
    "def get_trade(text):\n",
    "    user_prompt = f\"\"\"\n",
    "    Please tell me whether this is a good investment, poor investment, or neither, based on the following article about the company:\\\n",
    "    ```\n",
    "    {text}\n",
    "    ```\n",
    "    \"\"\"\n",
    "    completion = complete(user_prompt)\n",
    "    return completion.choices[0].message.content"
   ]
  },
  {
   "cell_type": "code",
   "execution_count": 51,
   "id": "45489f6d-7639-411a-b546-fc05a32d9de8",
   "metadata": {},
   "outputs": [
    {
     "data": {
      "text/plain": [
       "'1'"
      ]
     },
     "execution_count": 51,
     "metadata": {},
     "output_type": "execute_result"
    }
   ],
   "source": [
    "article = \"Consumer electronics giant Apple (AAPL) is looking to stand apart from other tech firms working on artificial intelligence by focusing on user privacy.\"\n",
    "get_trade(article)"
   ]
  },
  {
   "cell_type": "markdown",
   "id": "5ae0dc95-f5bf-402f-a3ca-26cdf84d048d",
   "metadata": {},
   "source": [
    "### Summarization"
   ]
  },
  {
   "cell_type": "code",
   "execution_count": 54,
   "id": "681a5e2f-9d20-4105-8f78-40b1b9129a27",
   "metadata": {},
   "outputs": [],
   "source": [
    "def complete(user_prompt):\n",
    "    completion = client.chat.completions.create(\n",
    "        model='gpt-3.5-turbo',\n",
    "        messages=[\n",
    "            {\"role\": \"user\", \"content\": user_prompt}\n",
    "        ],\n",
    "        temperature=0,\n",
    "        max_tokens=200,\n",
    "    )\n",
    "    return completion\n",
    "\n",
    "def print_response(completion):\n",
    "    content = completion.choices[0].message.content\n",
    "    print(content)"
   ]
  },
  {
   "cell_type": "code",
   "execution_count": 53,
   "id": "7ca7f14e-4750-4aed-a8b1-dbd548f73257",
   "metadata": {},
   "outputs": [],
   "source": [
    "stem_cells = f\"\"\"\n",
    "What are stem cells, and why are they important?\n",
    "Stem cells have the remarkable potential to renew themselves. They can develop into many different cell types in the body during early life and growth. Researchers study many different types of stem cells. There are several main categories: the “pluripotent” stem cells (embryonic stem cells and induced pluripotent stem cells) and nonembryonic or somatic stem cells (commonly called “adult” stem cells). Pluripotent stem cells have the ability to differentiate into all of the cells of the adult body. Adult stem cells are found in a tissue or organ and can differentiate to yield the specialized cell types of that tissue or organ.\n",
    "\n",
    "Pluripotent stem cells\n",
    "\n",
    "Early mammalian embryos at the blastocyst stage contain two types of cells – cells of the inner cell mass, and cells of the trophectoderm. The trophectodermal cells contribute to the placenta. The inner cell mass will ultimately develop into the specialized cell types, tissues, and organs of the entire body of the organism. Previous work with mouse embryos led to the development of a method in 1998 to derive stem cells from the inner cell mass of preimplantation human embryos and to grow human embryonic stem cells (hESCs) in the laboratory. In 2006, researchers identified conditions that would allow some mature human adult cells to be reprogrammed into an embryonic stem cell-like state. Those reprogramed stem cells are called induced pluripotent stem cells (iPSCs).\n",
    "\n",
    "Adult stem cells\n",
    "\n",
    "Throughout the life of the organism, populations of adult stem cells serve as an internal repair system that generates replacements for cells that are lost through normal wear and tear, injury, or disease. Adult stem cells have been identified in many organs and tissues and are generally associated with specific anatomical locations. These stem cells may remain quiescent (non-dividing) for long periods of time until they are activated by a normal need for more cells to maintain and repair tissues.\n",
    "\"\"\""
   ]
  },
  {
   "cell_type": "code",
   "execution_count": 56,
   "id": "cb06c2a3-d91b-4c83-987b-7aa868371241",
   "metadata": {},
   "outputs": [
    {
     "name": "stdout",
     "output_type": "stream",
     "text": [
      "Stem cells are important because they have the potential to renew themselves and develop into different cell types in the body. There are two main categories of stem cells: pluripotent stem cells, which can differentiate into all cell types, and adult stem cells, which are found in specific tissues and organs for repair and maintenance. Pluripotent stem cells can be derived from early mammalian embryos or reprogrammed from mature adult cells, while adult stem cells serve as an internal repair system throughout an organism's life.\n"
     ]
    }
   ],
   "source": [
    "prompt = f\"\"\"\n",
    "Please summarize the following article. \\\n",
    "Use a maximum of 3 sentences:\n",
    "```\n",
    "{stem_cells}\n",
    "```\n",
    "\"\"\"\n",
    "\n",
    "completion = complete(prompt)\n",
    "print_response(completion)"
   ]
  },
  {
   "cell_type": "markdown",
   "id": "1b9e4076-4cd6-443d-aea9-ffe442f6032b",
   "metadata": {},
   "source": [
    "### ELI5 (Explain like I'm 5)"
   ]
  },
  {
   "cell_type": "code",
   "execution_count": 58,
   "id": "4c7682ab-0122-4d81-81ce-e1a254cb14d6",
   "metadata": {},
   "outputs": [
    {
     "name": "stdout",
     "output_type": "stream",
     "text": [
      "Stem cells are special cells in our bodies that can turn into different types of cells. There are two main types of stem cells: pluripotent stem cells and adult stem cells. Pluripotent stem cells can turn into any type of cell in the body, while adult stem cells can only turn into specific types of cells in the organ or tissue they are found in.\n",
      "\n",
      "Pluripotent stem cells come from early embryos and can be grown in a lab to study and potentially use for medical treatments. Adult stem cells are found in our bodies throughout our lives and help repair and replace damaged cells.\n",
      "\n",
      "Stem cells are important because they have the potential to help treat diseases and injuries by replacing damaged cells with healthy ones. Researchers study stem cells to learn more about how they work and how they can be used to improve our health.\n"
     ]
    }
   ],
   "source": [
    "prompt = f\"\"\"\n",
    "Please ELI5 (explain like I'm 5) the following article.\n",
    "```\n",
    "{stem_cells}\n",
    "```\n",
    "\"\"\"\n",
    "\n",
    "completion = complete(prompt)\n",
    "print_response(completion)"
   ]
  },
  {
   "cell_type": "code",
   "execution_count": 59,
   "id": "c724b9f9-e5a9-46c3-b4a4-4c37cb20352d",
   "metadata": {},
   "outputs": [
    {
     "name": "stdout",
     "output_type": "stream",
     "text": [
      "Airplanes work by using the principles of lift, thrust, drag, and weight. \n",
      "\n",
      "1. Lift: Airplanes have wings that are shaped in a way that creates lift when air flows over them. This lift helps the airplane stay in the air.\n",
      "\n",
      "2. Thrust: Airplanes have engines that provide thrust, which is the force that moves the airplane forward. This thrust helps the airplane move through the air.\n",
      "\n",
      "3. Drag: Drag is the force that resists the motion of the airplane through the air. Airplanes are designed to minimize drag to help them fly more efficiently.\n",
      "\n",
      "4. Weight: Weight is the force of gravity pulling the airplane down towards the ground. The lift generated by the wings must be greater than the weight of the airplane in order for it to stay in the air.\n",
      "\n",
      "By balancing these forces and using control surfaces like ailerons, elevators, and rudders, pilots are able to control the airplane's direction, altitude, and speed.\n"
     ]
    }
   ],
   "source": [
    "prompt = \"Please ELI5 (explain like I'm 5) how airplanes work.\"\n",
    "completion = complete(prompt)\n",
    "print_response(completion)"
   ]
  },
  {
   "cell_type": "markdown",
   "id": "7347971b-4ccc-4db3-bdd5-fae33134ad4c",
   "metadata": {},
   "source": [
    "### Question Answering"
   ]
  },
  {
   "cell_type": "code",
   "execution_count": 63,
   "id": "3e1feed4-b665-4ad7-bce2-d6314407dd5f",
   "metadata": {},
   "outputs": [],
   "source": [
    "system_prompt = \"\"\"\n",
    "You are a helpful assistant that answers questions truthfully and factually. \\\n",
    "Your answer should be short and concise. \\\n",
    "If you don't know the answer, say so.\n",
    "\"\"\"\n",
    "\n",
    "def complete(user_prompt):\n",
    "    completion = client.chat.completions.create(\n",
    "        model='gpt-3.5-turbo',\n",
    "        messages=[\n",
    "            {\"role\": \"system\", \"content\": system_prompt},\n",
    "            {\"role\": \"user\", \"content\": user_prompt}\n",
    "        ],\n",
    "        temperature=0,\n",
    "        max_tokens=100\n",
    "    )\n",
    "    return completion\n",
    "\n",
    "def answer(question, context):\n",
    "    prompt = f\"\"\"\n",
    "    Please answer the following question:\n",
    "\n",
    "    Question:\n",
    "    ```\n",
    "    {question}\n",
    "    ```\n",
    "    Use the following context to find the answer:\n",
    "    ```\n",
    "    {context}\n",
    "    ```\n",
    "    \"\"\"\n",
    "\n",
    "    completion = complete(prompt)\n",
    "    content = completion.choices[0].message.content\n",
    "    print(content)"
   ]
  },
  {
   "cell_type": "code",
   "execution_count": 61,
   "id": "14063f82-d04b-4eaa-901e-9a693edeff83",
   "metadata": {},
   "outputs": [],
   "source": [
    "bio = \"\"\"\n",
    "Dr. Jonathan Whitmore was a pioneering physicist born in 1803 in the quaint village of Ashbourne, England. From an early age, Whitmore exhibited an insatiable curiosity about the natural world, often conducting rudimentary experiments in his family's barn. He pursued formal education at the University of Cambridge, where he earned his doctorate in physics in 1827.\n",
    "\n",
    "Whitmore's groundbreaking work in electromagnetism earned him widespread acclaim. In 1835, he published his seminal paper, \"On the Interactions of Electric Currents and Magnetic Fields,\" which laid the foundation for future developments in electromagnetic theory. His meticulous experiments demonstrated the principles of electromagnetic induction, predating Faraday's similar discoveries.\n",
    "\n",
    "In addition to his scientific contributions, Whitmore was an avid educator, holding a professorship at the Royal Institution of Great Britain. He mentored numerous students who would go on to make significant advancements in the field of physics.\n",
    "\n",
    "Dr. Whitmore passed away in 1872, leaving behind a legacy of scientific inquiry and discovery that continues to inspire physicists to this day.\n",
    "\"\"\""
   ]
  },
  {
   "cell_type": "code",
   "execution_count": 64,
   "id": "3ab9c299-3858-4fd6-983b-321b078d6efb",
   "metadata": {},
   "outputs": [
    {
     "name": "stdout",
     "output_type": "stream",
     "text": [
      "Dr. Jonathan Whitmore was born in 1803.\n"
     ]
    }
   ],
   "source": [
    "q = \"When was Dr. Jonathan Whitmore born?\"\n",
    "answer(q, bio)"
   ]
  },
  {
   "cell_type": "code",
   "execution_count": 65,
   "id": "b87f718a-1dd2-4073-8ff1-7cc5b9d13065",
   "metadata": {},
   "outputs": [
    {
     "name": "stdout",
     "output_type": "stream",
     "text": [
      "I'm sorry, but the provided context does not mention Dr. Jonathan Whitmore's height.\n"
     ]
    }
   ],
   "source": [
    "q = \"How tall was Dr. Jonathan Whitmore?\"\n",
    "answer(q, bio)"
   ]
  },
  {
   "cell_type": "code",
   "execution_count": 66,
   "id": "10d98aae-f991-4a57-80ba-b8cbb56d14e6",
   "metadata": {},
   "outputs": [
    {
     "name": "stdout",
     "output_type": "stream",
     "text": [
      "Dr. Jonathan Whitmore's field of study was physics.\n"
     ]
    }
   ],
   "source": [
    "q = \"What was Dr. Jonathan Whitmore field of study?\"\n",
    "answer(q, bio)"
   ]
  },
  {
   "cell_type": "code",
   "execution_count": 67,
   "id": "9bbbf8df-70ba-4b0d-a186-3496ec93bc88",
   "metadata": {},
   "outputs": [
    {
     "name": "stdout",
     "output_type": "stream",
     "text": [
      "I'm sorry, but there is no mention of Dr. Jonathan Whitmore inspiring any specific later discoveries in the provided context.\n"
     ]
    }
   ],
   "source": [
    "q = \"What later discoveries did Dr. Jonathan Whitmore inspire?\"\n",
    "answer(q, bio)"
   ]
  },
  {
   "cell_type": "markdown",
   "id": "04fa5379-24b5-4d6b-96a8-b75e83e88450",
   "metadata": {},
   "source": [
    "### Chain of Thought\n",
    "\n",
    "Breaking a problem into steps and makes reasoning explicit and increase the chance of arriving at the correct answer."
   ]
  },
  {
   "cell_type": "code",
   "execution_count": 69,
   "id": "835e8321-d05b-427e-a278-1e88b735e809",
   "metadata": {},
   "outputs": [],
   "source": [
    "def complete(user_prompt):\n",
    "    completion = client.chat.completions.create(\n",
    "        model='gpt-3.5-turbo',\n",
    "        messages=[\n",
    "            {\"role\": \"user\", \"content\": user_prompt}\n",
    "        ],\n",
    "        temperature=0,\n",
    "        max_tokens=100\n",
    "    )\n",
    "    return completion\n",
    "\n",
    "def print_response(completion):\n",
    "    content = completion.choices[0].message.content\n",
    "    print(content)"
   ]
  },
  {
   "cell_type": "code",
   "execution_count": 73,
   "id": "27ec58d0-eb4b-4d9e-b925-87e3b201c1ba",
   "metadata": {},
   "outputs": [
    {
     "name": "stdout",
     "output_type": "stream",
     "text": [
      "After giving away 4 apples and eating 1, I have 10 - 4 - 1 = 5 apples left.\n"
     ]
    }
   ],
   "source": [
    "prompt = \"\"\"\n",
    "I went to the market and bought 10 apples. \\\n",
    "I gave 2 apples to the neighbor and 2 to the repairman. \\\n",
    "I then bought 5 more apples and ate 1. \\\n",
    "How many apples do I have now?\n",
    "\"\"\"\n",
    "\n",
    "completion = complete(prompt)\n",
    "print_response(completion)"
   ]
  },
  {
   "cell_type": "code",
   "execution_count": 74,
   "id": "30ce1792-efd4-439c-a8a2-33ae782e7bf8",
   "metadata": {},
   "outputs": [
    {
     "name": "stdout",
     "output_type": "stream",
     "text": [
      "There are 4 blue golf balls. \n",
      "\n",
      "Since half of the balls are golf balls, there are 8 golf balls in total. And since half of the golf balls are blue, there are 4 blue golf balls.\n"
     ]
    }
   ],
   "source": [
    "prompt = \"\"\"\n",
    "A juggler can juggle 16 balls. \\\n",
    "Half of the balls are golf balls, and half of the golf balls are blue. \\\n",
    "How many blue golf balls are there?\n",
    "\"\"\"\n",
    "\n",
    "completion = complete(prompt)\n",
    "print_response(completion)"
   ]
  },
  {
   "cell_type": "code",
   "execution_count": 75,
   "id": "c20181d7-202c-4123-92e4-f9247b6742f0",
   "metadata": {},
   "outputs": [
    {
     "name": "stdout",
     "output_type": "stream",
     "text": [
      "1. The juggler can juggle 16 balls in total.\n",
      "2. Half of the balls are golf balls, so there are 16/2 = 8 golf balls.\n",
      "3. Half of the golf balls are blue, so there are 8/2 = 4 blue golf balls.\n",
      "\n",
      "Therefore, there are 4 blue golf balls.\n"
     ]
    }
   ],
   "source": [
    "prompt = \"\"\"\n",
    "A juggler can juggle 16 balls. \\\n",
    "Half of the balls are golf balls, and half of the golf balls are blue. \\\n",
    "How many blue golf balls are there?\n",
    "\n",
    "Let's think step by step.\n",
    "\"\"\"\n",
    "\n",
    "completion = complete(prompt)\n",
    "print_response(completion)"
   ]
  },
  {
   "cell_type": "code",
   "execution_count": null,
   "id": "b7a8507d-3acf-4671-99ea-eaf5dc4245dc",
   "metadata": {},
   "outputs": [],
   "source": []
  }
 ],
 "metadata": {
  "kernelspec": {
   "display_name": "Python 3 (ipykernel)",
   "language": "python",
   "name": "python3"
  },
  "language_info": {
   "codemirror_mode": {
    "name": "ipython",
    "version": 3
   },
   "file_extension": ".py",
   "mimetype": "text/x-python",
   "name": "python",
   "nbconvert_exporter": "python",
   "pygments_lexer": "ipython3",
   "version": "3.11.7"
  }
 },
 "nbformat": 4,
 "nbformat_minor": 5
}
